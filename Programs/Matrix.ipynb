{
 "cells": [
  {
   "cell_type": "code",
   "execution_count": 1,
   "id": "175e3e1a",
   "metadata": {},
   "outputs": [
    {
     "name": "stdout",
     "output_type": "stream",
     "text": [
      "Enter 3x3 Matrix A:\n"
     ]
    },
    {
     "name": "stdin",
     "output_type": "stream",
     "text": [
      " 1 2 3 \n",
      " 1 3 4\n",
      " 1 3 4\n"
     ]
    },
    {
     "name": "stdout",
     "output_type": "stream",
     "text": [
      "Enter 3x3 Matrix B:\n"
     ]
    },
    {
     "name": "stdin",
     "output_type": "stream",
     "text": [
      " 1 2 3\n",
      " 1 4 5 \n",
      " 5 6 7\n"
     ]
    },
    {
     "name": "stdout",
     "output_type": "stream",
     "text": [
      "\n",
      "Matrix A:\n",
      " [[1. 2. 3.]\n",
      " [1. 3. 4.]\n",
      " [1. 3. 4.]]\n",
      "\n",
      "Matrix B:\n",
      " [[1. 2. 3.]\n",
      " [1. 4. 5.]\n",
      " [5. 6. 7.]]\n",
      "\n",
      "A + B:\n",
      " [[ 2.  4.  6.]\n",
      " [ 2.  7.  9.]\n",
      " [ 6.  9. 11.]]\n",
      "\n",
      "A - B:\n",
      " [[ 0.  0.  0.]\n",
      " [ 0. -1. -1.]\n",
      " [-4. -3. -3.]]\n",
      "\n",
      "A * B (element-wise):\n",
      " [[ 1.  4.  9.]\n",
      " [ 1. 12. 20.]\n",
      " [ 5. 18. 28.]]\n",
      "\n",
      "A / B (element-wise):\n",
      " [[1.         1.         1.        ]\n",
      " [1.         0.75       0.8       ]\n",
      " [0.2        0.5        0.57142857]]\n"
     ]
    }
   ],
   "source": [
    "import numpy as np\n",
    "\n",
    "print(\"Enter 3x3 Matrix A:\")\n",
    "A = np.array([list(map(float, input().split())) for _ in range(3)])\n",
    "\n",
    "print(\"Enter 3x3 Matrix B:\")\n",
    "B = np.array([list(map(float, input().split())) for _ in range(3)])\n",
    "\n",
    "add = A + B\n",
    "sub = A - B\n",
    "mul = A * B\n",
    "div = np.divide(A, B, where=B != 0)\n",
    "\n",
    "print(\"\\nMatrix A:\\n\", A)\n",
    "print(\"\\nMatrix B:\\n\", B)\n",
    "print(\"\\nA + B:\\n\", add)\n",
    "print(\"\\nA - B:\\n\", sub)\n",
    "print(\"\\nA * B (element-wise):\\n\", mul)\n",
    "print(\"\\nA / B (element-wise):\\n\", div)\n"
   ]
  },
  {
   "cell_type": "code",
   "execution_count": null,
   "id": "937d5f58",
   "metadata": {},
   "outputs": [],
   "source": []
  }
 ],
 "metadata": {
  "kernelspec": {
   "display_name": "Python 3 (ipykernel)",
   "language": "python",
   "name": "python3"
  },
  "language_info": {
   "codemirror_mode": {
    "name": "ipython",
    "version": 3
   },
   "file_extension": ".py",
   "mimetype": "text/x-python",
   "name": "python",
   "nbconvert_exporter": "python",
   "pygments_lexer": "ipython3",
   "version": "3.9.12"
  }
 },
 "nbformat": 4,
 "nbformat_minor": 5
}

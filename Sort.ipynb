{
 "cells": [
  {
   "cell_type": "code",
   "execution_count": 7,
   "id": "7e806638",
   "metadata": {},
   "outputs": [
    {
     "name": "stdout",
     "output_type": "stream",
     "text": [
      "              Name  Age  Marks              School          City\n",
      "2     Olivia Brown   15     92  Maple Leaf Academy       Chicago\n",
      "5   William Miller   15     78  Maple Leaf Academy     San Diego\n",
      "8  Sophia Anderson   15     73      Greenwood High      San Jose\n",
      "3      Noah Wilson   16     67      Greenwood High       Houston\n",
      "6       Ava Garcia   16     85    Riverdale School        Dallas\n",
      "0    Alice Johnson   16     88      Greenwood High      New York\n",
      "9  Benjamin Thomas   16     95    Riverdale School  Philadelphia\n",
      "1       Liam Smith   17     75    Riverdale School   Los Angeles\n",
      "7   James Martinez   17     90     Lakeview School        Austin\n",
      "4       Emma Davis   17     81     Lakeview School       Phoenix\n"
     ]
    }
   ],
   "source": [
    "import pandas as pd\n",
    "\n",
    "inputfile = 'Students.csv'\n",
    "df = pd.read_csv(inputfile)\n",
    "\n",
    "df_sorted = df.sort_values(by='Age')\n",
    "\n",
    "print(df_sorted)\n"
   ]
  },
  {
   "cell_type": "code",
   "execution_count": null,
   "id": "e5aa548c",
   "metadata": {},
   "outputs": [],
   "source": []
  },
  {
   "cell_type": "code",
   "execution_count": null,
   "id": "b3c28689",
   "metadata": {},
   "outputs": [],
   "source": []
  }
 ],
 "metadata": {
  "kernelspec": {
   "display_name": "Python 3 (ipykernel)",
   "language": "python",
   "name": "python3"
  },
  "language_info": {
   "codemirror_mode": {
    "name": "ipython",
    "version": 3
   },
   "file_extension": ".py",
   "mimetype": "text/x-python",
   "name": "python",
   "nbconvert_exporter": "python",
   "pygments_lexer": "ipython3",
   "version": "3.9.12"
  }
 },
 "nbformat": 4,
 "nbformat_minor": 5
}
